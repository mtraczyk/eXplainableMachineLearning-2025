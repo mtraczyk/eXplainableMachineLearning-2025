{
 "cells": [
  {
   "cell_type": "markdown",
   "metadata": {},
   "source": [
    "# TASK 1"
   ]
  },
  {
   "cell_type": "markdown",
   "metadata": {},
   "source": [
    "### 1. Demographic Parity (DP)\n",
    "Demographic Parity (DP) measures whether individuals from different groups are equally likely to be enrolled in the training program. It is calculated by comparing the proportion of individuals enrolled in each group. The formula is:\n",
    "\n",
    "$$\n",
    "\\text{DP} = \\frac{P(\\text{Enrolled} \\mid \\text{Red})}{P(\\text{Enrolled} \\mid \\text{Blue})}\n",
    "$$\n",
    "\n",
    "---\n",
    "\n",
    "### 2. Equal Opportunity (EO)\n",
    "Equal Opportunity (EO) measures whether individuals from different groups who will benefit from the training are equally likely to be enrolled. The formula is:\n",
    "\n",
    "$$\n",
    "\\text{EO} = \\frac{P(\\text{Enrolled} \\mid \\text{Will\\ use\\ XAI,\\ Red})}{P(\\text{Enrolled} \\mid \\text{Will\\ use\\ XAI,\\ Blue})}\n",
    "$$\n",
    "\n",
    "---\n",
    "\n",
    "### 3. Predictive Rate Parity (PRP)\n",
    "Predictive Rate Parity (PRP) compares how likely an enrolled individual from each group is to actually use XAI. The formula is:\n",
    "\n",
    "$$\n",
    "\\text{PRP} = \\frac{P(\\text{Will\\ use\\ XAI} \\mid \\text{Enrolled,\\ Red})}{P(\\text{Will\\ use\\ XAI} \\mid \\text{Enrolled,\\ Blue})}\n",
    "$$"
   ]
  },
  {
   "cell_type": "code",
   "execution_count": 1,
   "metadata": {},
   "outputs": [
    {
     "ename": "ModuleNotFoundError",
     "evalue": "No module named 'ace_tools'",
     "output_type": "error",
     "traceback": [
      "\u001b[0;31m---------------------------------------------------------------------------\u001b[0m",
      "\u001b[0;31mModuleNotFoundError\u001b[0m                       Traceback (most recent call last)",
      "Cell \u001b[0;32mIn[1], line 2\u001b[0m\n\u001b[1;32m      1\u001b[0m \u001b[38;5;28;01mimport\u001b[39;00m \u001b[38;5;21;01mpandas\u001b[39;00m \u001b[38;5;28;01mas\u001b[39;00m \u001b[38;5;21;01mpd\u001b[39;00m\n\u001b[0;32m----> 2\u001b[0m \u001b[38;5;28;01mimport\u001b[39;00m \u001b[38;5;21;01mace_tools\u001b[39;00m \u001b[38;5;28;01mas\u001b[39;00m \u001b[38;5;21;01mtools\u001b[39;00m\n\u001b[1;32m      4\u001b[0m \u001b[38;5;66;03m# Blue group data\u001b[39;00m\n\u001b[1;32m      5\u001b[0m blue_total \u001b[38;5;241m=\u001b[39m \u001b[38;5;241m100\u001b[39m\n",
      "\u001b[0;31mModuleNotFoundError\u001b[0m: No module named 'ace_tools'"
     ]
    }
   ],
   "source": [
    "import pandas as pd\n",
    "import ace_tools as tools\n",
    "\n",
    "# Blue group data\n",
    "blue_total = 100\n",
    "blue_enrolled = 65\n",
    "blue_enrolled_will_use_XAI = 60\n",
    "blue_enrolled_will_not_use_XAI = 5\n",
    "blue_not_enrolled_will_use_XAI = 15\n",
    "\n",
    "# Red group data (scaling based on population size difference)\n",
    "red_total = blue_total / 9  # Red is 9 times smaller\n",
    "red_will_use_XAI = 0.5 * red_total\n",
    "red_will_not_use_XAI = 0.5 * red_total\n",
    "red_enrolled = 0.5 * red_total  # 50% of Red are randomly enrolled\n",
    "red_enrolled_will_use_XAI = red_enrolled * 0.5\n",
    "\n",
    "# Demographic Parity (DP)\n",
    "dp_red = red_enrolled / red_total\n",
    "dp_blue = blue_enrolled / blue_total\n",
    "demographic_parity = dp_red / dp_blue\n",
    "\n",
    "# Equal Opportunity (EO)\n",
    "eo_red = red_enrolled_will_use_XAI / red_will_use_XAI\n",
    "eo_blue = blue_enrolled_will_use_XAI / (blue_enrolled_will_use_XAI + blue_not_enrolled_will_use_XAI)\n",
    "equal_opportunity = eo_red / eo_blue\n",
    "\n",
    "# Predictive Rate Parity (PRP)\n",
    "prp_red = red_enrolled_will_use_XAI / red_enrolled\n",
    "prp_blue = blue_enrolled_will_use_XAI / blue_enrolled\n",
    "predictive_rate_parity = prp_red / prp_blue\n",
    "\n",
    "# Display results\n",
    "metrics = {\n",
    "    \"Demographic Parity\": demographic_parity,\n",
    "    \"Equal Opportunity\": equal_opportunity,\n",
    "    \"Predictive Rate Parity\": predictive_rate_parity\n",
    "}\n",
    "\n",
    "metrics_df = pd.DataFrame(metrics, index=[\"Value\"])\n",
    "tools.display_dataframe_to_user(name=\"Fairness Metrics\", dataframe=metrics_df)\n",
    "\n",
    "metrics_df\n"
   ]
  }
 ],
 "metadata": {
  "kernelspec": {
   "display_name": ".venv",
   "language": "python",
   "name": "python3"
  },
  "language_info": {
   "codemirror_mode": {
    "name": "ipython",
    "version": 3
   },
   "file_extension": ".py",
   "mimetype": "text/x-python",
   "name": "python",
   "nbconvert_exporter": "python",
   "pygments_lexer": "ipython3",
   "version": "3.11.2"
  }
 },
 "nbformat": 4,
 "nbformat_minor": 2
}
