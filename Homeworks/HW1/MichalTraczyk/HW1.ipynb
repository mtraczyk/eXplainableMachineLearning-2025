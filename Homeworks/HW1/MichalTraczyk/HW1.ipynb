{
 "cells": [
  {
   "cell_type": "markdown",
   "metadata": {},
   "source": [
    "# TASK 1"
   ]
  },
  {
   "cell_type": "markdown",
   "metadata": {},
   "source": [
    "### 1. Demographic Parity (DP)\n",
    "Demographic Parity (DP) measures whether individuals from different groups are equally likely to be enrolled in the training program. It is calculated by comparing the proportion of individuals enrolled in each group. The formula is:\n",
    "\n",
    "$$\n",
    "\\text{DP} = \\frac{P(\\text{Enrolled} \\mid \\text{Red})}{P(\\text{Enrolled} \\mid \\text{Blue})}\n",
    "$$\n",
    "\n",
    "---\n",
    "\n",
    "### 2. Equal Opportunity (EO)\n",
    "Equal Opportunity (EO) measures whether individuals from different groups who will benefit from the training are equally likely to be enrolled. The formula is:\n",
    "\n",
    "$$\n",
    "\\text{EO} = \\frac{P(\\text{Enrolled} \\mid \\text{Will\\ use\\ XAI,\\ Red})}{P(\\text{Enrolled} \\mid \\text{Will\\ use\\ XAI,\\ Blue})}\n",
    "$$\n",
    "\n",
    "---\n",
    "\n",
    "### 3. Predictive Rate Parity (PRP)\n",
    "Predictive Rate Parity (PRP) compares how likely an enrolled individual from each group is to actually use XAI. The formula is:\n",
    "\n",
    "$$\n",
    "\\text{PRP} = \\frac{P(\\text{Will\\ use\\ XAI} \\mid \\text{Enrolled,\\ Red})}{P(\\text{Will\\ use\\ XAI} \\mid \\text{Enrolled,\\ Blue})}\n",
    "$$"
   ]
  },
  {
   "cell_type": "code",
   "execution_count": 7,
   "metadata": {},
   "outputs": [
    {
     "name": "stdout",
     "output_type": "stream",
     "text": [
      " Demographic Parity  Equal Opportunity  Predictive Rate Parity\n",
      "           0.769231              0.625                0.541667\n"
     ]
    }
   ],
   "source": [
    "import pandas as pd\n",
    "\n",
    "# Blue group data\n",
    "blue_total = 100\n",
    "blue_enrolled = 65\n",
    "blue_enrolled_will_use_XAI = 60\n",
    "blue_enrolled_will_not_use_XAI = 5\n",
    "blue_not_enrolled_will_use_XAI = 15\n",
    "\n",
    "# Red group data (scaling based on population size difference)\n",
    "red_total = blue_total / 9  # Red is 9 times smaller\n",
    "red_will_use_XAI = 0.5 * red_total\n",
    "red_will_not_use_XAI = 0.5 * red_total\n",
    "red_enrolled = 0.5 * red_total  # 50% of Red are randomly enrolled\n",
    "red_enrolled_will_use_XAI = red_enrolled * 0.5\n",
    "\n",
    "# Demographic Parity (DP)\n",
    "dp_red = red_enrolled / red_total\n",
    "dp_blue = blue_enrolled / blue_total\n",
    "demographic_parity = dp_red / dp_blue\n",
    "\n",
    "# Equal Opportunity (EO)\n",
    "eo_red = red_enrolled_will_use_XAI / red_will_use_XAI\n",
    "eo_blue = blue_enrolled_will_use_XAI / (blue_enrolled_will_use_XAI + blue_not_enrolled_will_use_XAI)\n",
    "equal_opportunity = eo_red / eo_blue\n",
    "\n",
    "# Predictive Rate Parity (PRP)\n",
    "prp_red = red_enrolled_will_use_XAI / red_enrolled\n",
    "prp_blue = blue_enrolled_will_use_XAI / blue_enrolled\n",
    "predictive_rate_parity = prp_red / prp_blue\n",
    "\n",
    "# Display results using pandas\n",
    "metrics = {\n",
    "    \"Demographic Parity\": [demographic_parity],\n",
    "    \"Equal Opportunity\": [equal_opportunity],\n",
    "    \"Predictive Rate Parity\": [predictive_rate_parity]\n",
    "}\n",
    "\n",
    "metrics_df = pd.DataFrame(metrics)\n",
    "print(metrics_df.to_string(index=False))"
   ]
  },
  {
   "cell_type": "markdown",
   "metadata": {},
   "source": [
    "# TASK 2"
   ]
  },
  {
   "cell_type": "code",
   "execution_count": null,
   "metadata": {},
   "outputs": [],
   "source": []
  }
 ],
 "metadata": {
  "kernelspec": {
   "display_name": "PGM3.9env",
   "language": "python",
   "name": "python3"
  },
  "language_info": {
   "codemirror_mode": {
    "name": "ipython",
    "version": 3
   },
   "file_extension": ".py",
   "mimetype": "text/x-python",
   "name": "python",
   "nbconvert_exporter": "python",
   "pygments_lexer": "ipython3",
   "version": "3.10.14"
  }
 },
 "nbformat": 4,
 "nbformat_minor": 2
}
